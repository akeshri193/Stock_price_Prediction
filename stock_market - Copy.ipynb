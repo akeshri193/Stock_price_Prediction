{
 "cells": [
  {
   "cell_type": "code",
   "execution_count": 1,
   "metadata": {},
   "outputs": [],
   "source": [
    "from matplotlib import pyplot as plt\n",
    "import pandas as pd\n",
    "from sklearn.model_selection import train_test_split\n",
    "from sklearn.linear_model import LinearRegression\n",
    "from sklearn.linear_model import LogisticRegression\n",
    "#from sklearn.preprocessing import LabelEncoder\n",
    "#from sklearn import metrics as mt\n",
    "import datetime as dt\n",
    "#from sklearn.preprocessing import StandardScaler"
   ]
  },
  {
   "cell_type": "code",
   "execution_count": 2,
   "metadata": {},
   "outputs": [],
   "source": [
    "#sc=StandardScaler()"
   ]
  },
  {
   "cell_type": "code",
   "execution_count": 3,
   "metadata": {},
   "outputs": [
    {
     "data": {
      "text/html": [
       "<div>\n",
       "<style scoped>\n",
       "    .dataframe tbody tr th:only-of-type {\n",
       "        vertical-align: middle;\n",
       "    }\n",
       "\n",
       "    .dataframe tbody tr th {\n",
       "        vertical-align: top;\n",
       "    }\n",
       "\n",
       "    .dataframe thead th {\n",
       "        text-align: right;\n",
       "    }\n",
       "</style>\n",
       "<table border=\"1\" class=\"dataframe\">\n",
       "  <thead>\n",
       "    <tr style=\"text-align: right;\">\n",
       "      <th></th>\n",
       "      <th>Date</th>\n",
       "      <th>Open Price</th>\n",
       "      <th>High Price</th>\n",
       "      <th>Low Price</th>\n",
       "      <th>Close Price</th>\n",
       "      <th>Traded Value^</th>\n",
       "      <th>No. Of Trades</th>\n",
       "      <th>Traded Quantity</th>\n",
       "    </tr>\n",
       "  </thead>\n",
       "  <tbody>\n",
       "    <tr>\n",
       "      <th>0</th>\n",
       "      <td>07-09-2023</td>\n",
       "      <td>3,430.80</td>\n",
       "      <td>3,460.00</td>\n",
       "      <td>3,422.30</td>\n",
       "      <td>3,455.25</td>\n",
       "      <td>649.20</td>\n",
       "      <td>143528</td>\n",
       "      <td>1885092</td>\n",
       "    </tr>\n",
       "    <tr>\n",
       "      <th>1</th>\n",
       "      <td>06-09-2023</td>\n",
       "      <td>3,434.00</td>\n",
       "      <td>3,443.90</td>\n",
       "      <td>3,398.10</td>\n",
       "      <td>3,429.90</td>\n",
       "      <td>450.25</td>\n",
       "      <td>99523</td>\n",
       "      <td>1314818</td>\n",
       "    </tr>\n",
       "    <tr>\n",
       "      <th>2</th>\n",
       "      <td>05-09-2023</td>\n",
       "      <td>3,420.00</td>\n",
       "      <td>3,447.00</td>\n",
       "      <td>3,405.15</td>\n",
       "      <td>3,429.35</td>\n",
       "      <td>515.19</td>\n",
       "      <td>100120</td>\n",
       "      <td>1501842</td>\n",
       "    </tr>\n",
       "    <tr>\n",
       "      <th>3</th>\n",
       "      <td>04-09-2023</td>\n",
       "      <td>3,378.00</td>\n",
       "      <td>3,432.85</td>\n",
       "      <td>3,370.05</td>\n",
       "      <td>3,418.50</td>\n",
       "      <td>622.57</td>\n",
       "      <td>114654</td>\n",
       "      <td>1828332</td>\n",
       "    </tr>\n",
       "    <tr>\n",
       "      <th>4</th>\n",
       "      <td>01-09-2023</td>\n",
       "      <td>3,366.00</td>\n",
       "      <td>3,389.00</td>\n",
       "      <td>3,356.80</td>\n",
       "      <td>3,379.20</td>\n",
       "      <td>431.94</td>\n",
       "      <td>148744</td>\n",
       "      <td>1277950</td>\n",
       "    </tr>\n",
       "    <tr>\n",
       "      <th>...</th>\n",
       "      <td>...</td>\n",
       "      <td>...</td>\n",
       "      <td>...</td>\n",
       "      <td>...</td>\n",
       "      <td>...</td>\n",
       "      <td>...</td>\n",
       "      <td>...</td>\n",
       "      <td>...</td>\n",
       "    </tr>\n",
       "    <tr>\n",
       "      <th>4719</th>\n",
       "      <td>01-09-2004</td>\n",
       "      <td>990.00</td>\n",
       "      <td>995.00</td>\n",
       "      <td>983.60</td>\n",
       "      <td>987.90</td>\n",
       "      <td>246.62</td>\n",
       "      <td>43844</td>\n",
       "      <td>2491943</td>\n",
       "    </tr>\n",
       "    <tr>\n",
       "      <th>4720</th>\n",
       "      <td>31-08-2004</td>\n",
       "      <td>986.50</td>\n",
       "      <td>990.00</td>\n",
       "      <td>976.00</td>\n",
       "      <td>988.10</td>\n",
       "      <td>260.21</td>\n",
       "      <td>44115</td>\n",
       "      <td>2649332</td>\n",
       "    </tr>\n",
       "    <tr>\n",
       "      <th>4721</th>\n",
       "      <td>30-08-2004</td>\n",
       "      <td>969.90</td>\n",
       "      <td>990.00</td>\n",
       "      <td>965.00</td>\n",
       "      <td>986.75</td>\n",
       "      <td>300.51</td>\n",
       "      <td>58748</td>\n",
       "      <td>3058151</td>\n",
       "    </tr>\n",
       "    <tr>\n",
       "      <th>4722</th>\n",
       "      <td>27-08-2004</td>\n",
       "      <td>982.40</td>\n",
       "      <td>982.40</td>\n",
       "      <td>958.55</td>\n",
       "      <td>962.65</td>\n",
       "      <td>371.56</td>\n",
       "      <td>75524</td>\n",
       "      <td>3830750</td>\n",
       "    </tr>\n",
       "    <tr>\n",
       "      <th>4723</th>\n",
       "      <td>26-08-2004</td>\n",
       "      <td>992.00</td>\n",
       "      <td>997.00</td>\n",
       "      <td>975.30</td>\n",
       "      <td>979.00</td>\n",
       "      <td>498.29</td>\n",
       "      <td>97524</td>\n",
       "      <td>5055400</td>\n",
       "    </tr>\n",
       "  </tbody>\n",
       "</table>\n",
       "<p>4724 rows × 8 columns</p>\n",
       "</div>"
      ],
      "text/plain": [
       "            Date Open Price High Price Low Price Close Price Traded Value^  \\\n",
       "0     07-09-2023   3,430.80   3,460.00  3,422.30    3,455.25        649.20   \n",
       "1     06-09-2023   3,434.00   3,443.90  3,398.10    3,429.90        450.25   \n",
       "2     05-09-2023   3,420.00   3,447.00  3,405.15    3,429.35        515.19   \n",
       "3     04-09-2023   3,378.00   3,432.85  3,370.05    3,418.50        622.57   \n",
       "4     01-09-2023   3,366.00   3,389.00  3,356.80    3,379.20        431.94   \n",
       "...          ...        ...        ...       ...         ...           ...   \n",
       "4719  01-09-2004     990.00     995.00    983.60      987.90        246.62   \n",
       "4720  31-08-2004     986.50     990.00    976.00      988.10        260.21   \n",
       "4721  30-08-2004     969.90     990.00    965.00      986.75        300.51   \n",
       "4722  27-08-2004     982.40     982.40    958.55      962.65        371.56   \n",
       "4723  26-08-2004     992.00     997.00    975.30      979.00        498.29   \n",
       "\n",
       "      No. Of Trades  Traded Quantity  \n",
       "0            143528          1885092  \n",
       "1             99523          1314818  \n",
       "2            100120          1501842  \n",
       "3            114654          1828332  \n",
       "4            148744          1277950  \n",
       "...             ...              ...  \n",
       "4719          43844          2491943  \n",
       "4720          44115          2649332  \n",
       "4721          58748          3058151  \n",
       "4722          75524          3830750  \n",
       "4723          97524          5055400  \n",
       "\n",
       "[4724 rows x 8 columns]"
      ]
     },
     "execution_count": 3,
     "metadata": {},
     "output_type": "execute_result"
    }
   ],
   "source": [
    "data=pd.read_csv(r\"TCS-NSE.csv\")\n",
    "#df1=pd.DataFrame(data)\n",
    "df=pd.DataFrame(data)\n",
    "#df.shape\n",
    "#df.describe()\n",
    "df.dropna(inplace=True)\n",
    "#df.sort_index(ascending=False,inplace=True)\n",
    "df\n"
   ]
  },
  {
   "cell_type": "code",
   "execution_count": 4,
   "metadata": {},
   "outputs": [
    {
     "name": "stdout",
     "output_type": "stream",
     "text": [
      "<class 'pandas.core.frame.DataFrame'>\n",
      "RangeIndex: 4724 entries, 0 to 4723\n",
      "Data columns (total 8 columns):\n",
      " #   Column           Non-Null Count  Dtype         \n",
      "---  ------           --------------  -----         \n",
      " 0   Date             4724 non-null   datetime64[ns]\n",
      " 1   Open Price       4724 non-null   object        \n",
      " 2   High Price       4724 non-null   object        \n",
      " 3   Low Price        4724 non-null   object        \n",
      " 4   Close Price      4724 non-null   object        \n",
      " 5   Traded Value^    4724 non-null   object        \n",
      " 6   No. Of Trades    4724 non-null   int64         \n",
      " 7   Traded Quantity  4724 non-null   int64         \n",
      "dtypes: datetime64[ns](1), int64(2), object(5)\n",
      "memory usage: 295.4+ KB\n"
     ]
    }
   ],
   "source": [
    "df[\"Date\"]=pd.to_datetime(df[\"Date\"],format=\"%d-%m-%Y\")\n",
    "df.info()"
   ]
  },
  {
   "cell_type": "code",
   "execution_count": 5,
   "metadata": {},
   "outputs": [
    {
     "data": {
      "text/html": [
       "<div>\n",
       "<style scoped>\n",
       "    .dataframe tbody tr th:only-of-type {\n",
       "        vertical-align: middle;\n",
       "    }\n",
       "\n",
       "    .dataframe tbody tr th {\n",
       "        vertical-align: top;\n",
       "    }\n",
       "\n",
       "    .dataframe thead th {\n",
       "        text-align: right;\n",
       "    }\n",
       "</style>\n",
       "<table border=\"1\" class=\"dataframe\">\n",
       "  <thead>\n",
       "    <tr style=\"text-align: right;\">\n",
       "      <th></th>\n",
       "      <th>Date</th>\n",
       "      <th>Open Price</th>\n",
       "      <th>High Price</th>\n",
       "      <th>Low Price</th>\n",
       "      <th>Close Price</th>\n",
       "      <th>Traded Value^</th>\n",
       "      <th>No. Of Trades</th>\n",
       "      <th>Traded Quantity</th>\n",
       "    </tr>\n",
       "  </thead>\n",
       "  <tbody>\n",
       "    <tr>\n",
       "      <th>4723</th>\n",
       "      <td>2004-08-26</td>\n",
       "      <td>992.00</td>\n",
       "      <td>997.00</td>\n",
       "      <td>975.30</td>\n",
       "      <td>979.00</td>\n",
       "      <td>498.29</td>\n",
       "      <td>97524</td>\n",
       "      <td>5055400</td>\n",
       "    </tr>\n",
       "    <tr>\n",
       "      <th>4722</th>\n",
       "      <td>2004-08-27</td>\n",
       "      <td>982.40</td>\n",
       "      <td>982.40</td>\n",
       "      <td>958.55</td>\n",
       "      <td>962.65</td>\n",
       "      <td>371.56</td>\n",
       "      <td>75524</td>\n",
       "      <td>3830750</td>\n",
       "    </tr>\n",
       "    <tr>\n",
       "      <th>4721</th>\n",
       "      <td>2004-08-30</td>\n",
       "      <td>969.90</td>\n",
       "      <td>990.00</td>\n",
       "      <td>965.00</td>\n",
       "      <td>986.75</td>\n",
       "      <td>300.51</td>\n",
       "      <td>58748</td>\n",
       "      <td>3058151</td>\n",
       "    </tr>\n",
       "    <tr>\n",
       "      <th>4720</th>\n",
       "      <td>2004-08-31</td>\n",
       "      <td>986.50</td>\n",
       "      <td>990.00</td>\n",
       "      <td>976.00</td>\n",
       "      <td>988.10</td>\n",
       "      <td>260.21</td>\n",
       "      <td>44115</td>\n",
       "      <td>2649332</td>\n",
       "    </tr>\n",
       "    <tr>\n",
       "      <th>4719</th>\n",
       "      <td>2004-09-01</td>\n",
       "      <td>990.00</td>\n",
       "      <td>995.00</td>\n",
       "      <td>983.60</td>\n",
       "      <td>987.90</td>\n",
       "      <td>246.62</td>\n",
       "      <td>43844</td>\n",
       "      <td>2491943</td>\n",
       "    </tr>\n",
       "    <tr>\n",
       "      <th>...</th>\n",
       "      <td>...</td>\n",
       "      <td>...</td>\n",
       "      <td>...</td>\n",
       "      <td>...</td>\n",
       "      <td>...</td>\n",
       "      <td>...</td>\n",
       "      <td>...</td>\n",
       "      <td>...</td>\n",
       "    </tr>\n",
       "    <tr>\n",
       "      <th>4</th>\n",
       "      <td>2023-09-01</td>\n",
       "      <td>3,366.00</td>\n",
       "      <td>3,389.00</td>\n",
       "      <td>3,356.80</td>\n",
       "      <td>3,379.20</td>\n",
       "      <td>431.94</td>\n",
       "      <td>148744</td>\n",
       "      <td>1277950</td>\n",
       "    </tr>\n",
       "    <tr>\n",
       "      <th>3</th>\n",
       "      <td>2023-09-04</td>\n",
       "      <td>3,378.00</td>\n",
       "      <td>3,432.85</td>\n",
       "      <td>3,370.05</td>\n",
       "      <td>3,418.50</td>\n",
       "      <td>622.57</td>\n",
       "      <td>114654</td>\n",
       "      <td>1828332</td>\n",
       "    </tr>\n",
       "    <tr>\n",
       "      <th>2</th>\n",
       "      <td>2023-09-05</td>\n",
       "      <td>3,420.00</td>\n",
       "      <td>3,447.00</td>\n",
       "      <td>3,405.15</td>\n",
       "      <td>3,429.35</td>\n",
       "      <td>515.19</td>\n",
       "      <td>100120</td>\n",
       "      <td>1501842</td>\n",
       "    </tr>\n",
       "    <tr>\n",
       "      <th>1</th>\n",
       "      <td>2023-09-06</td>\n",
       "      <td>3,434.00</td>\n",
       "      <td>3,443.90</td>\n",
       "      <td>3,398.10</td>\n",
       "      <td>3,429.90</td>\n",
       "      <td>450.25</td>\n",
       "      <td>99523</td>\n",
       "      <td>1314818</td>\n",
       "    </tr>\n",
       "    <tr>\n",
       "      <th>0</th>\n",
       "      <td>2023-09-07</td>\n",
       "      <td>3,430.80</td>\n",
       "      <td>3,460.00</td>\n",
       "      <td>3,422.30</td>\n",
       "      <td>3,455.25</td>\n",
       "      <td>649.20</td>\n",
       "      <td>143528</td>\n",
       "      <td>1885092</td>\n",
       "    </tr>\n",
       "  </tbody>\n",
       "</table>\n",
       "<p>4724 rows × 8 columns</p>\n",
       "</div>"
      ],
      "text/plain": [
       "           Date Open Price High Price Low Price Close Price Traded Value^  \\\n",
       "4723 2004-08-26     992.00     997.00    975.30      979.00        498.29   \n",
       "4722 2004-08-27     982.40     982.40    958.55      962.65        371.56   \n",
       "4721 2004-08-30     969.90     990.00    965.00      986.75        300.51   \n",
       "4720 2004-08-31     986.50     990.00    976.00      988.10        260.21   \n",
       "4719 2004-09-01     990.00     995.00    983.60      987.90        246.62   \n",
       "...         ...        ...        ...       ...         ...           ...   \n",
       "4    2023-09-01   3,366.00   3,389.00  3,356.80    3,379.20        431.94   \n",
       "3    2023-09-04   3,378.00   3,432.85  3,370.05    3,418.50        622.57   \n",
       "2    2023-09-05   3,420.00   3,447.00  3,405.15    3,429.35        515.19   \n",
       "1    2023-09-06   3,434.00   3,443.90  3,398.10    3,429.90        450.25   \n",
       "0    2023-09-07   3,430.80   3,460.00  3,422.30    3,455.25        649.20   \n",
       "\n",
       "      No. Of Trades  Traded Quantity  \n",
       "4723          97524          5055400  \n",
       "4722          75524          3830750  \n",
       "4721          58748          3058151  \n",
       "4720          44115          2649332  \n",
       "4719          43844          2491943  \n",
       "...             ...              ...  \n",
       "4            148744          1277950  \n",
       "3            114654          1828332  \n",
       "2            100120          1501842  \n",
       "1             99523          1314818  \n",
       "0            143528          1885092  \n",
       "\n",
       "[4724 rows x 8 columns]"
      ]
     },
     "execution_count": 5,
     "metadata": {},
     "output_type": "execute_result"
    }
   ],
   "source": [
    "#f[\"Traded Quantity\"]=sc.fit_transform(df[[\"Traded Quantity\"]])\n",
    "df.sort_values(by=[\"Date\"],ascending=True,inplace=True)\n",
    "df"
   ]
  },
  {
   "cell_type": "code",
   "execution_count": 6,
   "metadata": {},
   "outputs": [
    {
     "name": "stdout",
     "output_type": "stream",
     "text": [
      "<class 'pandas.core.frame.DataFrame'>\n",
      "Index: 4724 entries, 4723 to 0\n",
      "Data columns (total 8 columns):\n",
      " #   Column           Non-Null Count  Dtype         \n",
      "---  ------           --------------  -----         \n",
      " 0   Date             4724 non-null   datetime64[ns]\n",
      " 1   Open Price       4724 non-null   object        \n",
      " 2   High Price       4724 non-null   object        \n",
      " 3   Low Price        4724 non-null   object        \n",
      " 4   Close Price      4724 non-null   object        \n",
      " 5   Traded Value^    4724 non-null   object        \n",
      " 6   No. Of Trades    4724 non-null   int64         \n",
      " 7   Traded Quantity  4724 non-null   int64         \n",
      "dtypes: datetime64[ns](1), int64(2), object(5)\n",
      "memory usage: 332.2+ KB\n"
     ]
    }
   ],
   "source": [
    "df.info()"
   ]
  },
  {
   "cell_type": "code",
   "execution_count": 7,
   "metadata": {},
   "outputs": [],
   "source": [
    "df[\"Open Price\"]=df[\"Open Price\"].str.replace(\",\",\"\")\n",
    "df[\"High Price\"]=df[\"High Price\"].str.replace(\",\",\"\")\n",
    "df[\"Low Price\"]=df[\"Low Price\"].str.replace(\",\",\"\")\n",
    "df[\"Traded Value^\"]=df[\"Traded Value^\"].str.replace(\",\",\"\")\n",
    "df[\"Close Price\"]=df[\"Close Price\"].str.replace(\",\",\"\")"
   ]
  },
  {
   "cell_type": "code",
   "execution_count": 8,
   "metadata": {},
   "outputs": [],
   "source": [
    "df[\"Close Price\"]=df[\"Close Price\"].astype(\"float64\")\n",
    "df[\"Open Price\"]=df[\"Open Price\"].astype(\"float64\")\n",
    "df[\"High Price\"]=df[\"High Price\"].astype(\"float64\")\n",
    "df[\"Low Price\"]=df[\"Low Price\"].astype(\"float64\")\n",
    "df[\"Traded Value^\"]=df[\"Traded Value^\"].astype(\"float64\")"
   ]
  },
  {
   "cell_type": "code",
   "execution_count": 9,
   "metadata": {},
   "outputs": [],
   "source": [
    "X=df.drop([\"Close Price\"],axis=1)\n",
    "Y=df[\"Close Price\"]\n",
    "#X[\"Date\"]=X[\"Date\"].astype(\"Int64\")//10*9"
   ]
  },
  {
   "cell_type": "code",
   "execution_count": 32,
   "metadata": {},
   "outputs": [
    {
     "data": {
      "text/plain": [
       "[<matplotlib.lines.Line2D at 0x1ed27e7c610>]"
      ]
     },
     "execution_count": 32,
     "metadata": {},
     "output_type": "execute_result"
    },
    {
     "data": {
      "image/png": "[encoded data removed]",
      "text/plain": [
       "<Figure size 640x480 with 1 Axes>"
      ]
     },
     "metadata": {},
     "output_type": "display_data"
    }
   ],
   "source": [
    "ax=plt.subplot()\n",
    "plt.title(\"Past Record\")\n",
    "plt.xlabel(\"Time->\")\n",
    "plt.ylabel(\"Price->\")\n",
    "#plt.bar(df[\"Date\"],df[\"Total Trade Quantity\"],color=\"red\")\n",
    "#plt.yticks(rotation=45)\n",
    "#plt.subplot(2,2,2)\n",
    "plt.plot(df[\"Date\"],df[\"Close Price\"])\n",
    "#ax2=ax.twinx()\n",
    "#ax2.plot(df[\"Date\"],df[\"Traded Quantity\"],color=\"grey\")\n",
    "#plt.ylabel(\"volume\")"
   ]
  },
  {
   "cell_type": "code",
   "execution_count": 34,
   "metadata": {},
   "outputs": [
    {
     "data": {
      "text/plain": [
       "Date               0\n",
       "Open Price         0\n",
       "High Price         0\n",
       "Low Price          0\n",
       "Close Price        0\n",
       "Traded Value^      0\n",
       "No. Of Trades      0\n",
       "Traded Quantity    0\n",
       "dtype: int64"
      ]
     },
     "execution_count": 34,
     "metadata": {},
     "output_type": "execute_result"
    }
   ],
   "source": [
    "df.isnull().sum()"
   ]
  },
  {
   "cell_type": "code",
   "execution_count": 24,
   "metadata": {},
   "outputs": [],
   "source": [
    "#X.drop([\"Date\"],axis=1)\n",
    "#x_train,x_test,y_train,y_test=train_test_split(X,Y)\n",
    "x_train=X.iloc[:1000]\n",
    "y_train=Y.iloc[:1000]\n",
    "x_test=X.iloc[1000:]\n",
    "y_test=Y.iloc[1000:]"
   ]
  },
  {
   "cell_type": "code",
   "execution_count": 25,
   "metadata": {},
   "outputs": [],
   "source": [
    "#a=pd.DataFrame([[dt.date(2025,3,31),5210.00,5280.00,5251.00,1009.00,100050,3020460]])\n",
    "#a[6]=sc.fit_transform()\n",
    "#b=a.iloc[:,1:]\n",
    "#b"
   ]
  },
  {
   "cell_type": "code",
   "execution_count": 26,
   "metadata": {},
   "outputs": [],
   "source": [
    "linr=LinearRegression()\n",
    "logr=LogisticRegression()\n",
    "#X.drop([\"Date\"],axis=1,inplace=True)\n",
    "#x_train=x_train.drop([\"Date\"],axis=1)\n",
    "xtrn=x_train.drop([\"Date\"],axis=1)\n"
   ]
  },
  {
   "cell_type": "code",
   "execution_count": 27,
   "metadata": {},
   "outputs": [],
   "source": [
    "xtst=x_test.drop([\"Date\"],axis=1)\n",
    "linr.fit(xtrn,y_train)\n",
    "linpred=linr.predict(xtst)"
   ]
  },
  {
   "cell_type": "code",
   "execution_count": 28,
   "metadata": {},
   "outputs": [],
   "source": [
    "#logr.fit(xtrn,y_train)"
   ]
  },
  {
   "cell_type": "code",
   "execution_count": 29,
   "metadata": {},
   "outputs": [
    {
     "data": {
      "text/plain": [
       "0.9980849939008848"
      ]
     },
     "execution_count": 29,
     "metadata": {},
     "output_type": "execute_result"
    }
   ],
   "source": [
    "linr.score(xtrn,y_train)\n",
    "#x_train[\"Date\"].shape"
   ]
  },
  {
   "cell_type": "code",
   "execution_count": 30,
   "metadata": {},
   "outputs": [
    {
     "data": {
      "image/png": "[encoded data removed]",
      "text/plain": [
       "<Figure size 640x480 with 1 Axes>"
      ]
     },
     "metadata": {},
     "output_type": "display_data"
    }
   ],
   "source": [
    "#plt.subplot(2,2,2)\n",
    "plt.plot(x_test[\"Date\"],y_test,color=\"green\")\n",
    "plt.plot(x_train[\"Date\"],y_train,color=\"orange\")\n",
    "plt.plot(x_test[\"Date\"],linpred,\"red\")\n",
    "#plt.scatter(a[0],linr.predict(b),color=\"red\",marker=\"*\")\n",
    "plt.xlabel(\"Date->\")\n",
    "plt.ylabel(\"Price\")\n",
    "plt.show()\n",
    "#print(\"Price on \",a.iloc[0,0],\" will be\")\n",
    "#print((linr.predict(b)))\n"
   ]
  },
  {
   "cell_type": "code",
   "execution_count": null,
   "metadata": {},
   "outputs": [],
   "source": []
  }
 ],
 "metadata": {
  "kernelspec": {
   "display_name": "Python 3",
   "language": "python",
   "name": "python3"
  },
  "language_info": {
   "codemirror_mode": {
    "name": "ipython",
    "version": 3
   },
   "file_extension": ".py",
   "mimetype": "text/x-python",
   "name": "python",
   "nbconvert_exporter": "python",
   "pygments_lexer": "ipython3",
   "version": "3.11.5"
  },
  "orig_nbformat": 4
 },
 "nbformat": 4,
 "nbformat_minor": 2
}
